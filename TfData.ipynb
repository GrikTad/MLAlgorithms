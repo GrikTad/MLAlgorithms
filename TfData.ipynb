{
 "cells": [
  {
   "cell_type": "code",
   "execution_count": 1,
   "metadata": {},
   "outputs": [],
   "source": [
    "import functools\n",
    "import numpy as np\n",
    "import tensorflow as tf"
   ]
  },
  {
   "cell_type": "code",
   "execution_count": 2,
   "metadata": {
    "tags": []
   },
   "outputs": [],
   "source": [
    "TRAIN_DATA_URL=\"https://storage.googleapis.com/tf-datasets/titanic/train.csv\"\n",
    "TEST_DATA_URL = \"https://storage.googleapis.com/tf-datasets/titanic/eval.csv\"\n",
    "train_file_path=tf.keras.utils.get_file(\"train.csv\",TRAIN_DATA_URL)\n",
    "test_file_path=tf.keras.utils.get_file(\"eval.csv\",TEST_DATA_URL)"
   ]
  },
  {
   "cell_type": "code",
   "execution_count": 3,
   "metadata": {},
   "outputs": [],
   "source": [
    "np.set_printoptions(precision=3,suppress=True)"
   ]
  },
  {
   "cell_type": "code",
   "execution_count": 4,
   "metadata": {},
   "outputs": [],
   "source": [
    "LABEL_COLUMN='survived'\n",
    "LABELS=[0,1]"
   ]
  },
  {
   "cell_type": "code",
   "execution_count": 5,
   "metadata": {},
   "outputs": [],
   "source": [
    "def get_dataset(file_path, **kwargs):\n",
    "    dataset=tf.data.experimental.make_csv_dataset(\n",
    "        file_path,\n",
    "        batch_size=5,\n",
    "        label_name=LABEL_COLUMN,\n",
    "        na_value=\"?\",\n",
    "        num_epochs=1,\n",
    "        ignore_errors=True,\n",
    "        **kwargs\n",
    "    )\n",
    "    return dataset\n",
    "raw_train_data=get_dataset(train_file_path)\n",
    "raw_test_data=get_dataset(test_file_path)"
   ]
  },
  {
   "cell_type": "code",
   "execution_count": 6,
   "metadata": {},
   "outputs": [],
   "source": [
    "def show_batch(dataset):\n",
    "    for batch, label in dataset.take(1):\n",
    "        for key, value in batch.items():\n",
    "            print(\"{:20s}: {}\".format(key,value.numpy()))"
   ]
  },
  {
   "cell_type": "code",
   "execution_count": 7,
   "metadata": {
    "tags": []
   },
   "outputs": [
    {
     "output_type": "stream",
     "name": "stdout",
     "text": "sex                 : [b'male' b'male' b'male' b'male' b'female']\nage                 : [11. 19. 36. 28. 40.]\nn_siblings_spouses  : [5 0 1 0 0]\nparch               : [2 0 2 0 0]\nfare                : [46.9   10.5   27.75   8.663 13.   ]\nclass               : [b'Third' b'Second' b'Second' b'Third' b'Second']\ndeck                : [b'unknown' b'unknown' b'unknown' b'unknown' b'unknown']\nembark_town         : [b'Southampton' b'Southampton' b'Southampton' b'Southampton'\n b'Southampton']\nalone               : [b'n' b'y' b'n' b'y' b'y']\n"
    }
   ],
   "source": [
    "show_batch(raw_train_data)"
   ]
  },
  {
   "cell_type": "code",
   "execution_count": 8,
   "metadata": {
    "tags": []
   },
   "outputs": [
    {
     "output_type": "stream",
     "name": "stdout",
     "text": "sex                 : [b'male' b'male' b'male' b'male' b'female']\nage                 : [26. 41. 48. 23. 26.]\nn_siblings_spouses  : [2 2 1 2 0]\nparch               : [0 0 0 1 0]\nfare                : [ 8.663 14.108 76.729 11.5    7.925]\nclass               : [b'Third' b'Third' b'First' b'Second' b'Third']\ndeck                : [b'unknown' b'unknown' b'D' b'unknown' b'unknown']\nembark_town         : [b'Southampton' b'Southampton' b'Cherbourg' b'Southampton' b'Southampton']\nalone               : [b'n' b'n' b'n' b'n' b'y']\n"
    }
   ],
   "source": [
    "CSV_COLUMNS = ['survived', 'sex', 'age', 'n_siblings_spouses', 'parch', 'fare', 'class', 'deck', 'embark_town', 'alone']\n",
    "temp_dataset=get_dataset(train_file_path, column_names=CSV_COLUMNS)\n",
    "show_batch(temp_dataset)\n"
   ]
  },
  {
   "cell_type": "code",
   "execution_count": 9,
   "metadata": {
    "tags": []
   },
   "outputs": [
    {
     "output_type": "stream",
     "name": "stdout",
     "text": "age                 : [40. 21.  3. 19. 36.]\nn_siblings_spouses  : [1 0 1 0 0]\nclass               : [b'Third' b'Third' b'Second' b'Third' b'Second']\ndeck                : [b'unknown' b'unknown' b'unknown' b'unknown' b'unknown']\nalone               : [b'n' b'y' b'n' b'y' b'y']\n"
    }
   ],
   "source": [
    "SELECT_COLUMNS=['survived','age','n_siblings_spouses','class','deck','alone']\n",
    "temp_dataset=get_dataset(train_file_path,select_columns=SELECT_COLUMNS)\n",
    "show_batch(temp_dataset)"
   ]
  },
  {
   "cell_type": "code",
   "execution_count": 11,
   "metadata": {
    "tags": []
   },
   "outputs": [
    {
     "output_type": "stream",
     "name": "stdout",
     "text": "age                 : [25. 22. 19. 24. 20.]\nn_siblings_spouses  : [1. 0. 0. 0. 1.]\nparch               : [0. 2. 0. 0. 0.]\nfare                : [ 7.775 49.5   10.171 49.504  7.925]\n"
    }
   ],
   "source": [
    "SELECT_COLUMNS=['survived','age','n_siblings_spouses','parch','fare']\n",
    "DEFAULTS = [0, 0.0, 0.0, 0.0, 0.0]\n",
    "temp_dataset = get_dataset(train_file_path,\n",
    "                           select_columns=SELECT_COLUMNS,\n",
    "                           column_defaults=DEFAULTS)\n",
    "show_batch(temp_dataset)"
   ]
  },
  {
   "cell_type": "code",
   "execution_count": 12,
   "metadata": {},
   "outputs": [],
   "source": [
    "def pack(feautures, label):\n",
    "    return tf.stack(list(feautures.values()), axis=-1),label"
   ]
  },
  {
   "cell_type": "code",
   "execution_count": 14,
   "metadata": {
    "tags": []
   },
   "outputs": [
    {
     "output_type": "stream",
     "name": "stdout",
     "text": "[[ 28.      0.      0.      8.05 ]\n [ 14.      1.      2.    120.   ]\n [ 36.      0.      0.      7.496]\n [ 16.      0.      0.      7.75 ]\n [ 28.      0.      0.      7.312]]\n\n[0 1 0 1 0]\n"
    }
   ],
   "source": [
    "packed_dataset=temp_dataset.map(pack)\n",
    "\n",
    "for feautures, labels in packed_dataset.take(1):\n",
    "        print(feautures.numpy())\n",
    "        print()\n",
    "        print(labels.numpy())"
   ]
  },
  {
   "cell_type": "code",
   "execution_count": 15,
   "metadata": {
    "tags": []
   },
   "outputs": [
    {
     "output_type": "stream",
     "name": "stdout",
     "text": "sex                 : [b'male' b'female' b'male' b'male' b'male']\nage                 : [11.   4.  30.5  2.  28. ]\nn_siblings_spouses  : [0 1 0 3 0]\nparch               : [0 1 0 1 0]\nfare                : [18.788 16.7    8.05  21.075  8.458]\nclass               : [b'Third' b'Third' b'Third' b'Third' b'Third']\ndeck                : [b'unknown' b'G' b'unknown' b'unknown' b'unknown']\nembark_town         : [b'Cherbourg' b'Southampton' b'Southampton' b'Southampton' b'Queenstown']\nalone               : [b'y' b'n' b'y' b'n' b'y']\n"
    }
   ],
   "source": [
    "show_batch(raw_train_data)"
   ]
  },
  {
   "cell_type": "code",
   "execution_count": 16,
   "metadata": {},
   "outputs": [],
   "source": [
    "example_batch, labels_batch = next(iter(temp_dataset))"
   ]
  },
  {
   "cell_type": "code",
   "execution_count": 17,
   "metadata": {},
   "outputs": [],
   "source": [
    "class PackNumericFeatures(object):\n",
    "    def __init__(self, names):\n",
    "        self.names=names\n",
    "    def __call__(self, features, labels):\n",
    "        numeric_features=[features.pop(name) for name in self.names]\n",
    "        numeric_features=[tf.cast(feat, tf.float32) for feat in numeric_features]\n",
    "        numeric_features=tf.stack(numeric_features, axis=-1)\n",
    "        features['numeric']=numeric_features\n",
    "\n",
    "        return features,labels"
   ]
  },
  {
   "cell_type": "code",
   "execution_count": 18,
   "metadata": {},
   "outputs": [],
   "source": [
    "NUMERIC_FEATURES=['age', 'n_siblings_spouses', 'parch', 'fare']\n",
    "packed_train_data = raw_train_data.map(\n",
    "    PackNumericFeatures(NUMERIC_FEATURES))\n",
    "packed_test_data=raw_test_data.map(\n",
    "    PackNumericFeatures(NUMERIC_FEATURES))"
   ]
  },
  {
   "cell_type": "code",
   "execution_count": 19,
   "metadata": {
    "tags": []
   },
   "outputs": [
    {
     "output_type": "stream",
     "name": "stdout",
     "text": "sex                 : [b'male' b'male' b'male' b'female' b'male']\nclass               : [b'First' b'Third' b'Third' b'First' b'Third']\ndeck                : [b'A' b'unknown' b'unknown' b'C' b'unknown']\nembark_town         : [b'Cherbourg' b'Southampton' b'Southampton' b'Southampton' b'Southampton']\nalone               : [b'y' b'y' b'y' b'n' b'y']\nnumeric             : [[ 71.      0.      0.     34.654]\n [ 24.      0.      0.      7.496]\n [ 20.5     0.      0.      7.25 ]\n [ 58.      0.      1.    153.462]\n [ 49.      0.      0.      0.   ]]\n"
    }
   ],
   "source": [
    "show_batch(packed_train_data)"
   ]
  },
  {
   "cell_type": "code",
   "execution_count": 20,
   "metadata": {},
   "outputs": [],
   "source": [
    "example_batch, labels_batch=next(iter(packed_train_data))"
   ]
  },
  {
   "cell_type": "code",
   "execution_count": 21,
   "metadata": {},
   "outputs": [
    {
     "output_type": "execute_result",
     "data": {
      "text/plain": "              age  n_siblings_spouses       parch        fare\ncount  627.000000          627.000000  627.000000  627.000000\nmean    29.631308            0.545455    0.379585   34.385399\nstd     12.511818            1.151090    0.792999   54.597730\nmin      0.750000            0.000000    0.000000    0.000000\n25%     23.000000            0.000000    0.000000    7.895800\n50%     28.000000            0.000000    0.000000   15.045800\n75%     35.000000            1.000000    0.000000   31.387500\nmax     80.000000            8.000000    5.000000  512.329200",
      "text/html": "<div>\n<style scoped>\n    .dataframe tbody tr th:only-of-type {\n        vertical-align: middle;\n    }\n\n    .dataframe tbody tr th {\n        vertical-align: top;\n    }\n\n    .dataframe thead th {\n        text-align: right;\n    }\n</style>\n<table border=\"1\" class=\"dataframe\">\n  <thead>\n    <tr style=\"text-align: right;\">\n      <th></th>\n      <th>age</th>\n      <th>n_siblings_spouses</th>\n      <th>parch</th>\n      <th>fare</th>\n    </tr>\n  </thead>\n  <tbody>\n    <tr>\n      <th>count</th>\n      <td>627.000000</td>\n      <td>627.000000</td>\n      <td>627.000000</td>\n      <td>627.000000</td>\n    </tr>\n    <tr>\n      <th>mean</th>\n      <td>29.631308</td>\n      <td>0.545455</td>\n      <td>0.379585</td>\n      <td>34.385399</td>\n    </tr>\n    <tr>\n      <th>std</th>\n      <td>12.511818</td>\n      <td>1.151090</td>\n      <td>0.792999</td>\n      <td>54.597730</td>\n    </tr>\n    <tr>\n      <th>min</th>\n      <td>0.750000</td>\n      <td>0.000000</td>\n      <td>0.000000</td>\n      <td>0.000000</td>\n    </tr>\n    <tr>\n      <th>25%</th>\n      <td>23.000000</td>\n      <td>0.000000</td>\n      <td>0.000000</td>\n      <td>7.895800</td>\n    </tr>\n    <tr>\n      <th>50%</th>\n      <td>28.000000</td>\n      <td>0.000000</td>\n      <td>0.000000</td>\n      <td>15.045800</td>\n    </tr>\n    <tr>\n      <th>75%</th>\n      <td>35.000000</td>\n      <td>1.000000</td>\n      <td>0.000000</td>\n      <td>31.387500</td>\n    </tr>\n    <tr>\n      <th>max</th>\n      <td>80.000000</td>\n      <td>8.000000</td>\n      <td>5.000000</td>\n      <td>512.329200</td>\n    </tr>\n  </tbody>\n</table>\n</div>"
     },
     "metadata": {},
     "execution_count": 21
    }
   ],
   "source": [
    "import pandas as pd\n",
    "desc=pd.read_csv(train_file_path)[NUMERIC_FEATURES].describe()\n",
    "desc"
   ]
  },
  {
   "cell_type": "code",
   "execution_count": 22,
   "metadata": {},
   "outputs": [],
   "source": [
    "MEAN=np.array(desc.T['mean'])\n",
    "STD=np.array(desc.T['std'])"
   ]
  },
  {
   "cell_type": "code",
   "execution_count": 23,
   "metadata": {},
   "outputs": [],
   "source": [
    "def normalize_numeric_data(data,mean,std):\n",
    "    # Center the data\n",
    "    return (data-mean)/std"
   ]
  },
  {
   "cell_type": "code",
   "execution_count": 24,
   "metadata": {},
   "outputs": [
    {
     "output_type": "execute_result",
     "data": {
      "text/plain": "NumericColumn(key='numeric', shape=(4,), default_value=None, dtype=tf.float32, normalizer_fn=functools.partial(<function normalize_numeric_data at 0x0000020180F87550>, mean=array([29.631,  0.545,  0.38 , 34.385]), std=array([12.512,  1.151,  0.793, 54.598])))"
     },
     "metadata": {},
     "execution_count": 24
    }
   ],
   "source": [
    "normalizer=functools.partial(normalize_numeric_data,mean=MEAN,std=STD)\n",
    "numeric_column=tf.feature_column.numeric_column('numeric',normalizer_fn=normalizer,shape=[len(NUMERIC_FEATURES)])\n",
    "numeric_columns=[numeric_column]\n",
    "numeric_column"
   ]
  },
  {
   "cell_type": "code",
   "execution_count": 25,
   "metadata": {},
   "outputs": [
    {
     "output_type": "execute_result",
     "data": {
      "text/plain": "<tf.Tensor: shape=(5, 4), dtype=float32, numpy=\narray([[ 9.   ,  1.   ,  1.   , 15.9  ],\n       [28.   ,  0.   ,  0.   ,  7.55 ],\n       [29.   ,  0.   ,  0.   ,  9.483],\n       [28.   ,  0.   ,  0.   ,  8.05 ],\n       [14.   ,  0.   ,  0.   ,  7.854]], dtype=float32)>"
     },
     "metadata": {},
     "execution_count": 25
    }
   ],
   "source": [
    "example_batch['numeric']"
   ]
  },
  {
   "cell_type": "code",
   "execution_count": 26,
   "metadata": {},
   "outputs": [
    {
     "output_type": "execute_result",
     "data": {
      "text/plain": "array([[-1.649,  0.395,  0.782, -0.339],\n       [-0.13 , -0.474, -0.479, -0.492],\n       [-0.05 , -0.474, -0.479, -0.456],\n       [-0.13 , -0.474, -0.479, -0.482],\n       [-1.249, -0.474, -0.479, -0.486]], dtype=float32)"
     },
     "metadata": {},
     "execution_count": 26
    }
   ],
   "source": [
    "numeric_layer=tf.keras.layers.DenseFeatures(numeric_columns)\n",
    "numeric_layer(example_batch).numpy()"
   ]
  },
  {
   "cell_type": "code",
   "execution_count": 27,
   "metadata": {},
   "outputs": [],
   "source": [
    "CATEGORIES = {\n",
    "    'sex': ['male', 'female'],\n",
    "    'class' : ['First', 'Second', 'Third'],\n",
    "    'deck' : ['A', 'B', 'C', 'D', 'E', 'F', 'G', 'H', 'I', 'J'],\n",
    "    'embark_town' : ['Cherbourg', 'Southhampton', 'Queenstown'],\n",
    "    'alone' : ['y', 'n']\n",
    "}\n"
   ]
  },
  {
   "cell_type": "code",
   "execution_count": 28,
   "metadata": {},
   "outputs": [],
   "source": [
    "categorical_columns = []\n",
    "for feature, vocab in CATEGORIES.items():\n",
    "    cat_col = tf.feature_column.categorical_column_with_vocabulary_list(\n",
    "        key=feature, vocabulary_list=vocab)\n",
    "    categorical_columns.append(tf.feature_column.indicator_column(cat_col))"
   ]
  },
  {
   "cell_type": "code",
   "execution_count": 29,
   "metadata": {},
   "outputs": [
    {
     "output_type": "execute_result",
     "data": {
      "text/plain": "[IndicatorColumn(categorical_column=VocabularyListCategoricalColumn(key='sex', vocabulary_list=('male', 'female'), dtype=tf.string, default_value=-1, num_oov_buckets=0)),\n IndicatorColumn(categorical_column=VocabularyListCategoricalColumn(key='class', vocabulary_list=('First', 'Second', 'Third'), dtype=tf.string, default_value=-1, num_oov_buckets=0)),\n IndicatorColumn(categorical_column=VocabularyListCategoricalColumn(key='deck', vocabulary_list=('A', 'B', 'C', 'D', 'E', 'F', 'G', 'H', 'I', 'J'), dtype=tf.string, default_value=-1, num_oov_buckets=0)),\n IndicatorColumn(categorical_column=VocabularyListCategoricalColumn(key='embark_town', vocabulary_list=('Cherbourg', 'Southhampton', 'Queenstown'), dtype=tf.string, default_value=-1, num_oov_buckets=0)),\n IndicatorColumn(categorical_column=VocabularyListCategoricalColumn(key='alone', vocabulary_list=('y', 'n'), dtype=tf.string, default_value=-1, num_oov_buckets=0))]"
     },
     "metadata": {},
     "execution_count": 29
    }
   ],
   "source": [
    "categorical_columns"
   ]
  },
  {
   "cell_type": "code",
   "execution_count": 30,
   "metadata": {
    "tags": []
   },
   "outputs": [
    {
     "output_type": "stream",
     "name": "stdout",
     "text": "[0. 1. 0. 0. 1. 0. 0. 0. 0. 0. 0. 0. 0. 0. 0. 0. 0. 0. 1. 0.]\n"
    }
   ],
   "source": [
    "categorical_layer=tf.keras.layers.DenseFeatures(categorical_columns)\n",
    "print(categorical_layer(example_batch).numpy()[0])"
   ]
  },
  {
   "cell_type": "code",
   "execution_count": 31,
   "metadata": {},
   "outputs": [],
   "source": [
    "preprocessing_layer=tf.keras.layers.DenseFeatures(categorical_columns+numeric_columns)"
   ]
  },
  {
   "cell_type": "code",
   "execution_count": 32,
   "metadata": {
    "tags": []
   },
   "outputs": [
    {
     "output_type": "stream",
     "name": "stdout",
     "text": "[ 0.     1.     0.     0.     1.     0.     0.     0.     0.     0.\n  0.     0.     0.     0.     0.     0.     0.     0.    -1.649  0.395\n  0.782 -0.339  1.     0.   ]\n"
    }
   ],
   "source": [
    "print(preprocessing_layer(example_batch).numpy()[0])"
   ]
  },
  {
   "cell_type": "code",
   "execution_count": 34,
   "metadata": {},
   "outputs": [],
   "source": [
    "model=tf.keras.Sequential([\n",
    "    preprocessing_layer,\n",
    "    tf.keras.layers.Dense(128,activation='relu'),\n",
    "    tf.keras.layers.Dense(128,activation='relu'),\n",
    "    tf.keras.layers.Dense(1),\n",
    "])\n",
    "model.compile(\n",
    "    loss=tf.keras.losses.BinaryCrossentropy(from_logits=True),\n",
    "    optimizer='adam',\n",
    "    metrics=['accuracy'])"
   ]
  },
  {
   "cell_type": "code",
   "execution_count": 35,
   "metadata": {},
   "outputs": [],
   "source": [
    "train_data=packed_train_data.shuffle(500)\n",
    "test_data=packed_test_data"
   ]
  },
  {
   "cell_type": "code",
   "execution_count": 36,
   "metadata": {
    "tags": []
   },
   "outputs": [
    {
     "output_type": "stream",
     "name": "stdout",
     "text": "Epoch 1/20\n126/126 [==============================] - 1s 7ms/step - loss: 0.4940 - accuracy: 0.7544\nEpoch 2/20\n126/126 [==============================] - 0s 1ms/step - loss: 0.4179 - accuracy: 0.8166\nEpoch 3/20\n126/126 [==============================] - 0s 1ms/step - loss: 0.4141 - accuracy: 0.8230\nEpoch 4/20\n126/126 [==============================] - 0s 2ms/step - loss: 0.3964 - accuracy: 0.8214\nEpoch 5/20\n126/126 [==============================] - 0s 1ms/step - loss: 0.3744 - accuracy: 0.8357\nEpoch 6/20\n126/126 [==============================] - 0s 1ms/step - loss: 0.3644 - accuracy: 0.8437\nEpoch 7/20\n126/126 [==============================] - 0s 2ms/step - loss: 0.3733 - accuracy: 0.8357\nEpoch 8/20\n126/126 [==============================] - 0s 1ms/step - loss: 0.3584 - accuracy: 0.8357\nEpoch 9/20\n126/126 [==============================] - 0s 1ms/step - loss: 0.3467 - accuracy: 0.8469\nEpoch 10/20\n126/126 [==============================] - 0s 1ms/step - loss: 0.3466 - accuracy: 0.8437\nEpoch 11/20\n126/126 [==============================] - 0s 1ms/step - loss: 0.3379 - accuracy: 0.8533\nEpoch 12/20\n126/126 [==============================] - 0s 1ms/step - loss: 0.3400 - accuracy: 0.8533\nEpoch 13/20\n126/126 [==============================] - 0s 2ms/step - loss: 0.3325 - accuracy: 0.8596\nEpoch 14/20\n126/126 [==============================] - 0s 2ms/step - loss: 0.3364 - accuracy: 0.8565\nEpoch 15/20\n126/126 [==============================] - 0s 2ms/step - loss: 0.3234 - accuracy: 0.8517\nEpoch 16/20\n126/126 [==============================] - 0s 1ms/step - loss: 0.3202 - accuracy: 0.8581\nEpoch 17/20\n126/126 [==============================] - 0s 1ms/step - loss: 0.3155 - accuracy: 0.8596\nEpoch 18/20\n126/126 [==============================] - 0s 1ms/step - loss: 0.3139 - accuracy: 0.8517\nEpoch 19/20\n126/126 [==============================] - 0s 1ms/step - loss: 0.3126 - accuracy: 0.8565\nEpoch 20/20\n126/126 [==============================] - 0s 2ms/step - loss: 0.3116 - accuracy: 0.8612\n"
    },
    {
     "output_type": "execute_result",
     "data": {
      "text/plain": "<tensorflow.python.keras.callbacks.History at 0x20187095160>"
     },
     "metadata": {},
     "execution_count": 36
    }
   ],
   "source": [
    "model.fit(train_data,epochs=20)"
   ]
  },
  {
   "cell_type": "code",
   "execution_count": 37,
   "metadata": {
    "tags": []
   },
   "outputs": [
    {
     "output_type": "stream",
     "name": "stdout",
     "text": "53/53 [==============================] - 0s 1ms/step - loss: 0.4674 - accuracy: 0.8409\n\n\nTest Loss 0.46743401885032654, Test Accuracy 0.8409090638160706\n"
    }
   ],
   "source": [
    "test_loss, test_accuracy=model.evaluate(test_data)\n",
    "print('\\n\\nTest Loss {}, Test Accuracy {}'.format(test_loss, test_accuracy))"
   ]
  },
  {
   "cell_type": "code",
   "execution_count": 39,
   "metadata": {
    "tags": []
   },
   "outputs": [
    {
     "output_type": "stream",
     "name": "stdout",
     "text": "Predicted survival: 8.111518%  | Actual outcome:  SURVIVED\nPredicted survival: 99.846554%  | Actual outcome:  DIED\nPredicted survival: 99.958771%  | Actual outcome:  SURVIVED\nPredicted survival: 11.051155%  | Actual outcome:  DIED\nPredicted survival: 94.404858%  | Actual outcome:  SURVIVED\n"
    }
   ],
   "source": [
    "predictions=model.predict(test_data)\n",
    "\n",
    "#SHOW some results\n",
    "for prediction, survived in zip(predictions[:10], list(test_data)[0][1][:10]):\n",
    "    prediction=tf.sigmoid(prediction).numpy()\n",
    "    print(\"Predicted survival: {:2%}\".format(prediction[0]),\n",
    "    \" | Actual outcome: \",\n",
    "    (\"SURVIVED\" if bool(survived) else \"DIED\"))"
   ]
  },
  {
   "cell_type": "code",
   "execution_count": null,
   "metadata": {},
   "outputs": [],
   "source": []
  }
 ],
 "metadata": {
  "language_info": {
   "codemirror_mode": {
    "name": "ipython",
    "version": 3
   },
   "file_extension": ".py",
   "mimetype": "text/x-python",
   "name": "python",
   "nbconvert_exporter": "python",
   "pygments_lexer": "ipython3",
   "version": 3
  },
  "orig_nbformat": 2,
  "kernelspec": {
   "name": "python_defaultSpec_1594727552542",
   "display_name": "Python 3.8.3 64-bit"
  }
 },
 "nbformat": 4,
 "nbformat_minor": 2
}
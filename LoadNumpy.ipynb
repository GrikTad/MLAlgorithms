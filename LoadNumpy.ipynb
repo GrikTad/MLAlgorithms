{
 "cells": [
  {
   "cell_type": "code",
   "execution_count": 1,
   "metadata": {},
   "outputs": [],
   "source": [
    "import numpy as np\n",
    "import tensorflow as tf\n"
   ]
  },
  {
   "cell_type": "code",
   "execution_count": 2,
   "metadata": {},
   "outputs": [],
   "source": [
    "DATA_URL='https://storage.googleapis.com/tensorflow/tf-keras-datasets/mnist.npz'\n",
    "\n",
    "path=tf.keras.utils.get_file('mnist.npz', DATA_URL)\n",
    "with np.load(path) as data:\n",
    "    train_examples = data['x_train']\n",
    "    train_labels = data['y_train']\n",
    "    test_examples = data['x_test']\n",
    "    test_labels = data['y_test']\n"
   ]
  },
  {
   "cell_type": "code",
   "execution_count": 3,
   "metadata": {},
   "outputs": [],
   "source": [
    "train_dataset = tf.data.Dataset.from_tensor_slices((train_examples, train_labels))\n",
    "test_dataset = tf.data.Dataset.from_tensor_slices((test_examples, test_labels))"
   ]
  },
  {
   "cell_type": "code",
   "execution_count": 4,
   "metadata": {},
   "outputs": [],
   "source": [
    "BATCH_SIZE = 64\n",
    "SHUFFLE_BUFFER_SIZE=100\n",
    "\n",
    "train_dataset = train_dataset.shuffle(SHUFFLE_BUFFER_SIZE).batch(BATCH_SIZE)\n",
    "test_dataset = test_dataset.batch(BATCH_SIZE)"
   ]
  },
  {
   "cell_type": "code",
   "execution_count": 7,
   "metadata": {},
   "outputs": [],
   "source": [
    "model = tf.keras.Sequential([\n",
    "    tf.keras.layers.Flatten(input_shape=(28,28)),\n",
    "    tf.keras.layers.Dense(128, activation='relu'),\n",
    "    tf.keras.layers.Dense(10)\n",
    "])\n",
    "model.compile(optimizer=tf.keras.optimizers.RMSprop(),\n",
    "              loss=tf.keras.losses.SparseCategoricalCrossentropy(from_logits=True),\n",
    "              metrics=['sparse_categorical_accuracy'])"
   ]
  },
  {
   "cell_type": "code",
   "execution_count": 8,
   "metadata": {
    "tags": []
   },
   "outputs": [
    {
     "output_type": "stream",
     "name": "stdout",
     "text": "Epoch 1/10\n938/938 [==============================] - 2s 2ms/step - loss: 3.8664 - sparse_categorical_accuracy: 0.8730\nEpoch 2/10\n938/938 [==============================] - 2s 2ms/step - loss: 0.5511 - sparse_categorical_accuracy: 0.9269\nEpoch 3/10\n938/938 [==============================] - 2s 2ms/step - loss: 0.3885 - sparse_categorical_accuracy: 0.9454\nEpoch 4/10\n938/938 [==============================] - 2s 2ms/step - loss: 0.3402 - sparse_categorical_accuracy: 0.9536\nEpoch 5/10\n938/938 [==============================] - 2s 2ms/step - loss: 0.3051 - sparse_categorical_accuracy: 0.9600\nEpoch 6/10\n938/938 [==============================] - 2s 2ms/step - loss: 0.2702 - sparse_categorical_accuracy: 0.9648\nEpoch 7/10\n938/938 [==============================] - 2s 2ms/step - loss: 0.2469 - sparse_categorical_accuracy: 0.9685\nEpoch 8/10\n938/938 [==============================] - 2s 2ms/step - loss: 0.2271 - sparse_categorical_accuracy: 0.9715\nEpoch 9/10\n938/938 [==============================] - 2s 2ms/step - loss: 0.1971 - sparse_categorical_accuracy: 0.9744\nEpoch 10/10\n938/938 [==============================] - 2s 2ms/step - loss: 0.2025 - sparse_categorical_accuracy: 0.9764\n"
    },
    {
     "output_type": "execute_result",
     "data": {
      "text/plain": "<tensorflow.python.keras.callbacks.History at 0x29a05729760>"
     },
     "metadata": {},
     "execution_count": 8
    }
   ],
   "source": [
    "model.fit(train_dataset,epochs=10)"
   ]
  },
  {
   "cell_type": "code",
   "execution_count": 9,
   "metadata": {
    "tags": []
   },
   "outputs": [
    {
     "output_type": "stream",
     "name": "stdout",
     "text": "157/157 [==============================] - 0s 1ms/step - loss: 0.6626 - sparse_categorical_accuracy: 0.9568\n"
    },
    {
     "output_type": "execute_result",
     "data": {
      "text/plain": "[0.6625611186027527, 0.9567999839782715]"
     },
     "metadata": {},
     "execution_count": 9
    }
   ],
   "source": [
    "model.evaluate(test_dataset)"
   ]
  },
  {
   "cell_type": "code",
   "execution_count": null,
   "metadata": {},
   "outputs": [],
   "source": []
  }
 ],
 "metadata": {
  "language_info": {
   "codemirror_mode": {
    "name": "ipython",
    "version": 3
   },
   "file_extension": ".py",
   "mimetype": "text/x-python",
   "name": "python",
   "nbconvert_exporter": "python",
   "pygments_lexer": "ipython3",
   "version": 3
  },
  "orig_nbformat": 2,
  "kernelspec": {
   "name": "python_defaultSpec_1594654200166",
   "display_name": "Python 3.8.3 64-bit"
  }
 },
 "nbformat": 4,
 "nbformat_minor": 2
}